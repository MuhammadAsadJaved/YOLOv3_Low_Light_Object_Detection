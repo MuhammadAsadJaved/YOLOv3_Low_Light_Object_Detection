{
 "cells": [
  {
   "cell_type": "code",
   "execution_count": null,
   "metadata": {},
   "outputs": [],
   "source": [
    "import os\n",
    "import numpy as np\n",
    "import cv2\n",
    "import random"
   ]
  },
  {
   "cell_type": "code",
   "execution_count": null,
   "metadata": {},
   "outputs": [],
   "source": [
    "coco_dict = {}\n",
    "with open(\"coco.names\", \"r\") as f:\n",
    "    ls = f.readlines()\n",
    "    i=0\n",
    "    for cls in ls:\n",
    "        coco_dict[cls.strip(\"\\n\")] = i\n",
    "        i=i+1       \n",
    "    f.close()"
   ]
  },
  {
   "cell_type": "code",
   "execution_count": null,
   "metadata": {},
   "outputs": [],
   "source": [
    "imagespath = \"./ExDark/\"\n",
    "annotationspath = \"./ExDark_Annno/\""
   ]
  },
  {
   "cell_type": "code",
   "execution_count": null,
   "metadata": {},
   "outputs": [],
   "source": [
    "classes = os.listdir(imagespath)"
   ]
  },
  {
   "cell_type": "code",
   "execution_count": null,
   "metadata": {},
   "outputs": [],
   "source": [
    "images_dir = []\n",
    "annot_dir= []\n",
    "for cls in classes:\n",
    "    images_dir.append(imagespath+cls)\n",
    "    annot_dir.append(annotationspath+cls)"
   ]
  },
  {
   "cell_type": "code",
   "execution_count": null,
   "metadata": {},
   "outputs": [],
   "source": [
    "''' Code to copy images from original Exdark tree to one single file\n",
    "#copy files into exdark_data\n",
    "import shutil, os\n",
    "for image in images_dir:\n",
    "    for file in os.listdir(image):\n",
    "        shutil.copy(os.path.relpath(image+\"/\"+file)[:len(os.path.relpath(image+\"/\"+file))], 'exdark_data')\n",
    "'''"
   ]
  },
  {
   "cell_type": "code",
   "execution_count": null,
   "metadata": {
    "scrolled": true
   },
   "outputs": [],
   "source": [
    "darkimages_filepaths = []\n",
    "for image in images_dir:\n",
    "    for file in os.listdir(image):\n",
    "        darkimages_filepaths.append(os.path.relpath(image+\"/\"+file)[:len(os.path.relpath(image+\"/\"+file))])"
   ]
  },
  {
   "cell_type": "code",
   "execution_count": null,
   "metadata": {},
   "outputs": [],
   "source": [
    "darkdata_groundtruth = []\n",
    "for annot in annot_dir:\n",
    "    for file in os.listdir(annot):\n",
    "        f = open(annot+\"/\"+file,'r')\n",
    "        #print(os.path.relpath(annot+\"/\"+file)[:len(os.path.relpath(annot+\"/\"+file))])\n",
    "        darkdata_groundtruth.append(f.readlines()[1:])\n",
    "        f.close()    "
   ]
  },
  {
   "cell_type": "code",
   "execution_count": null,
   "metadata": {},
   "outputs": [],
   "source": [
    "len(darkdata_groundtruth)==len(darkimages_filepaths)"
   ]
  },
  {
   "cell_type": "code",
   "execution_count": null,
   "metadata": {},
   "outputs": [],
   "source": [
    "import matplotlib.pyplot\n",
    "def image_size(filepath):\n",
    "    height, width, channels = matplotlib.pyplot.imread(filepath).shape\n",
    "    return height, width, channels"
   ]
  },
  {
   "cell_type": "code",
   "execution_count": null,
   "metadata": {},
   "outputs": [],
   "source": [
    "def draw_bbox(imagepath,top_left_xy,bottomright_xy,line_size=4):\n",
    "    x_min = top_left_xy[0]\n",
    "    y_min = top_left_xy[1]\n",
    "    \n",
    "    x_max = bottomright_xy[0]\n",
    "    y_max = bottomright_xy[1]\n",
    "    \n",
    "    img = cv2.imread(imagepath,cv2.IMREAD_COLOR)\n",
    "    cv2.rectangle(img,(x_min,y_min),(x_max,y_max),(0,0,255),line_size)\n",
    "    cv2.imshow('image',img)\n",
    "    cv2.waitKey(0)\n",
    "    cv2.destroyAllWindows()\n",
    "    "
   ]
  },
  {
   "cell_type": "code",
   "execution_count": null,
   "metadata": {},
   "outputs": [],
   "source": [
    "# get x_min,y_min and x_max,y_max\n",
    "def convert_coordinates(top_left_xy,width,height):\n",
    "    x_min = top_left_xy[0]\n",
    "    y_min = top_left_xy[1]\n",
    "    \n",
    "    x_max = x_min + width\n",
    "    y_max = y_min + height\n",
    "    \n",
    "    return x_min, y_min, x_max, y_max\n",
    "x_min, y_min, x_max, y_max = convert_coordinates((204,28),271,193)\n",
    "#darkfile = r\"ExDark\\Bicycle\\2015_00002.png\"\n",
    "#draw_bbox(darkfile,(136,190),(215,299))"
   ]
  },
  {
   "cell_type": "code",
   "execution_count": null,
   "metadata": {},
   "outputs": [],
   "source": [
    "#Bicycle(1), Boat(2), Bottle(3), Bus(4), Car(5), Cat(6), Chair(7), Cup(8), Dog(9), Motorbike(10), People(11), Table(12)"
   ]
  },
  {
   "cell_type": "code",
   "execution_count": null,
   "metadata": {},
   "outputs": [],
   "source": [
    "#maping dark data classes using coco ids used for generating dataset when we use pre-trained YOLOv3 model trained on coco dataset\n",
    "def get_classid(class_name):\n",
    "    if class_name==\"Bicycle\":\n",
    "        class_id = 1\n",
    "    if class_name == \"Boat\":\n",
    "        class_id = 8\n",
    "    if class_name==\"Bottle\":\n",
    "        class_id = 39\n",
    "    if class_name == \"Bus\":\n",
    "        class_id = 5\n",
    "    if class_name==\"Car\":\n",
    "        class_id = 2\n",
    "    if class_name == \"Cat\":\n",
    "        class_id = 15\n",
    "    if class_name==\"Chair\":\n",
    "        class_id = 56\n",
    "    if class_name == \"Cup\":\n",
    "        class_id = 41\n",
    "    if class_name==\"Dog\":\n",
    "        class_id = 16\n",
    "    if class_name == \"Motorbike\":\n",
    "        class_id = 3\n",
    "    if class_name==\"People\":\n",
    "        class_id = 0\n",
    "    if class_name == \"Table\":\n",
    "        class_id = 60\n",
    "    return class_id"
   ]
  },
  {
   "cell_type": "markdown",
   "metadata": {},
   "source": [
    "# assigning class-ids, annotating for custom ExDark training\n",
    "def get_classid(class_name):\n",
    "    if class_name==\"Bicycle\":\n",
    "        class_id = 0\n",
    "    if class_name == \"Boat\":\n",
    "        class_id = 1\n",
    "    if class_name==\"Bottle\":\n",
    "        class_id = 2\n",
    "    if class_name == \"Bus\":\n",
    "        class_id = 3\n",
    "    if class_name==\"Car\":\n",
    "        class_id = 4\n",
    "    if class_name == \"Cat\":\n",
    "        class_id = 5\n",
    "    if class_name==\"Chair\":\n",
    "        class_id = 6\n",
    "    if class_name == \"Cup\":\n",
    "        class_id = 7\n",
    "    if class_name==\"Dog\":\n",
    "        class_id = 8\n",
    "    if class_name == \"Motorbike\":\n",
    "        class_id = 9\n",
    "    if class_name==\"People\":\n",
    "        class_id = 10\n",
    "    if class_name == \"Table\":\n",
    "        class_id = 11\n",
    "    return class_id"
   ]
  },
  {
   "cell_type": "code",
   "execution_count": null,
   "metadata": {},
   "outputs": [],
   "source": [
    "def flatten_bbox_id(groundtruth):\n",
    "    '''return x_min,y_min,x_max,y_max,class_id'''\n",
    "    space = ' '\n",
    "    x_min = int(groundtruth[1])\n",
    "    y_min = int(groundtruth[2])\n",
    "    width = int(groundtruth[3])\n",
    "    height = int(groundtruth[4])\n",
    "    x_min, y_min, x_max, y_max = convert_coordinates((x_min,y_min),width,height)\n",
    "    class_id = get_classid(groundtruth[0])\n",
    "    return str(x_min)+','+str(y_min)+','+str(x_max)+','+str(y_max)+','+str(class_id)+space\n",
    "flatten_bbox_id(darkdata_groundtruth[1][0].split(' '))"
   ]
  },
  {
   "cell_type": "code",
   "execution_count": null,
   "metadata": {},
   "outputs": [],
   "source": [
    "ls = []\n",
    "for file in darkdata_groundtruth:\n",
    "    #print(file)\n",
    "    sub_ls = []\n",
    "    for each in file:\n",
    "        print(flatten_bbox_id(each.split(' ')))\n",
    "        sub_ls.append(flatten_bbox_id(each.split(' ')))\n",
    "    ls.append(sub_ls)\n",
    "        \n",
    "    "
   ]
  },
  {
   "cell_type": "code",
   "execution_count": null,
   "metadata": {},
   "outputs": [],
   "source": [
    "gt_str_form = []\n",
    "for each in ls:\n",
    "    gt_str_form.append(''.join(each))\n",
    "len(gt_str_form)"
   ]
  },
  {
   "cell_type": "code",
   "execution_count": null,
   "metadata": {},
   "outputs": [],
   "source": [
    "darkimages_trainpaths = []\n",
    "for file in os.listdir(r'C:\\Users\\navee\\Desktop\\MS_Data_Science\\Dark_Object_Detection_Research\\TensorFlow2.0-Examples\\4-Object_Detection\\YOLOV3\\data\\dataset\\exdark_data'):\n",
    "    darkimages_trainpaths.append(r'C:\\Users\\navee\\Desktop\\MS_Data_Science\\Dark_Object_Detection_Research\\TensorFlow2.0-Examples\\4-Object_Detection\\YOLOV3\\data\\dataset\\exdark_data'+'\\\\'+os.path.relpath(file))\n",
    "len(darkimages_trainpaths)"
   ]
  },
  {
   "cell_type": "code",
   "execution_count": null,
   "metadata": {},
   "outputs": [],
   "source": [
    "ls  = range(len(darkimages_trainpaths))\n",
    "random.seed(1)\n",
    "train_rows = random.sample(ls, int(len(darkimages_trainpaths)*0.8)) ## making 80-20 split randomly\n",
    "assert(len(set(train_rows))==len(train_rows))## check for duplicates if any"
   ]
  },
  {
   "cell_type": "code",
   "execution_count": null,
   "metadata": {},
   "outputs": [],
   "source": [
    "test_rows=[]\n",
    "for ind in range(len(darkimages_trainpaths)):\n",
    "    if ind not in train_rows:\n",
    "        test_rows.append(ind)\n",
    "assert(len(set(test_rows))==len(test_rows))## check for duplicates if any\n",
    "assert(len(train_rows)+len(test_rows)==len(darkimages_trainpaths)) # check for any loss of data while splitting it"
   ]
  },
  {
   "cell_type": "markdown",
   "metadata": {},
   "source": [
    "###  Below we have generated annotation .txt files for train-test split to be used for creating a model on ExDark dataset"
   ]
  },
  {
   "cell_type": "code",
   "execution_count": null,
   "metadata": {},
   "outputs": [],
   "source": [
    "## copy train rows to exdark_train.txt\n",
    "with open(\"exdark_train.txt\",'w') as dataset:\n",
    "    for i in train_rows:\n",
    "        dataset.write(darkimages_trainpaths[i]+' '+gt_str_form[i]+\"\\n\")\n",
    "dataset.close()\n",
    "\n",
    "## copy test rows to exdark_test.txt\n",
    "with open(\"exdark_test.txt\",'w') as dataset:\n",
    "    for i in test_rows:\n",
    "        dataset.write(darkimages_trainpaths[i]+' '+gt_str_form[i]+\"\\n\")\n",
    "dataset.close()\n",
    "\n",
    "check_train = []\n",
    "with open(\"exdark_train.txt\",'r') as dataset:\n",
    "    for each in dataset.readlines():\n",
    "        check_train.append(each)\n",
    "dataset.close()\n",
    "\n",
    "check_test = []\n",
    "with open(\"exdark_test.txt\",'r') as dataset:\n",
    "    for each in dataset.readlines():\n",
    "        check_test.append(each)\n",
    "dataset.close()\n",
    "\n",
    "assert()\n",
    "## remove space at the end\n",
    "with open(\"exdark_train.txt\",'w') as dataset:\n",
    "    for i in check_train:\n",
    "        print(i.replace(\" \\n\",\"\\n\"))\n",
    "        dataset.write(i.replace(\" \\n\",\"\\n\"))\n",
    "dataset.close()\n",
    "\n",
    "with open(\"exdark_test.txt\",'w') as dataset:\n",
    "    for i in check_test:\n",
    "        print(i.replace(\" \\n\",\"\\n\"))\n",
    "        dataset.write(i.replace(\" \\n\",\"\\n\"))\n",
    "dataset.close()"
   ]
  },
  {
   "cell_type": "code",
   "execution_count": null,
   "metadata": {},
   "outputs": [],
   "source": []
  }
 ],
 "metadata": {
  "kernelspec": {
   "display_name": "Python 3",
   "language": "python",
   "name": "python3"
  },
  "language_info": {
   "codemirror_mode": {
    "name": "ipython",
    "version": 3
   },
   "file_extension": ".py",
   "mimetype": "text/x-python",
   "name": "python",
   "nbconvert_exporter": "python",
   "pygments_lexer": "ipython3",
   "version": "3.6.7"
  }
 },
 "nbformat": 4,
 "nbformat_minor": 2
}
