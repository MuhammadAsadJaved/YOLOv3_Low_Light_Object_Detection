{
 "cells": [
  {
   "cell_type": "code",
   "execution_count": 1,
   "metadata": {},
   "outputs": [],
   "source": [
    "import matplotlib\n",
    "%matplotlib inline"
   ]
  },
  {
   "cell_type": "code",
   "execution_count": 3,
   "metadata": {},
   "outputs": [
    {
     "name": "stdout",
     "output_type": "stream",
     "text": [
      "59.65% = bicycle AP  \n",
      "24.69% = boat AP  \n",
      "42.51% = bottle AP  \n",
      "76.53% = bus AP  \n",
      "38.38% = car AP  \n",
      "0.33% = cat AP  \n",
      "0.22% = chair AP  \n",
      "1.63% = cup AP  \n",
      "1.51% = diningtable AP  \n",
      "0.31% = dog AP  \n",
      "0.21% = motorbike AP  \n",
      "10.25% = person AP  \n",
      "mAP = 21.35%\n",
      "Figure(640x480)\n"
     ]
    }
   ],
   "source": [
    "#original images results at iou=0.5 conf_thres=0.25\n",
    "!python main.py"
   ]
  },
  {
   "cell_type": "code",
   "execution_count": 4,
   "metadata": {},
   "outputs": [
    {
     "name": "stdout",
     "output_type": "stream",
     "text": [
      "58.55% = bicycle AP  \n",
      "23.77% = boat AP  \n",
      "42.31% = bottle AP  \n",
      "72.54% = bus AP  \n",
      "36.09% = car AP  \n",
      "0.24% = cat AP  \n",
      "0.23% = chair AP  \n",
      "1.57% = cup AP  \n",
      "1.11% = diningtable AP  \n",
      "0.28% = dog AP  \n",
      "0.19% = motorbike AP  \n",
      "8.96% = person AP  \n",
      "mAP = 20.49%\n",
      "Figure(640x480)\n"
     ]
    }
   ],
   "source": [
    "#ying images results at iou=0.5 conf_thres=0.25\n",
    "!python main.py"
   ]
  },
  {
   "cell_type": "code",
   "execution_count": 1,
   "metadata": {},
   "outputs": [
    {
     "name": "stdout",
     "output_type": "stream",
     "text": [
      "57.30% = bicycle AP  \n",
      "28.06% = boat AP  \n",
      "37.26% = bottle AP  \n",
      "69.00% = bus AP  \n",
      "32.14% = car AP  \n",
      "0.24% = cat AP  \n",
      "0.23% = chair AP  \n",
      "1.50% = cup AP  \n",
      "1.56% = diningtable AP  \n",
      "0.21% = dog AP  \n",
      "0.22% = motorbike AP  \n",
      "8.61% = person AP  \n",
      "mAP = 19.69%\n",
      "Figure(640x480)\n"
     ]
    }
   ],
   "source": [
    "#histogram equalization results\n",
    "!python main.py"
   ]
  },
  {
   "cell_type": "code",
   "execution_count": 2,
   "metadata": {},
   "outputs": [
    {
     "name": "stdout",
     "output_type": "stream",
     "text": [
      "59.20% = bicycle AP  \n",
      "25.17% = boat AP  \n",
      "43.34% = bottle AP  \n",
      "73.63% = bus AP  \n",
      "37.11% = car AP  \n",
      "0.23% = cat AP  \n",
      "0.25% = chair AP  \n",
      "1.68% = cup AP  \n",
      "1.25% = diningtable AP  \n",
      "0.30% = dog AP  \n",
      "0.19% = motorbike AP  \n",
      "9.31% = person AP  \n",
      "mAP = 20.97%\n",
      "Figure(640x480)\n"
     ]
    }
   ],
   "source": [
    "#dynamic histogram equalization results\n",
    "!python main.py"
   ]
  },
  {
   "cell_type": "code",
   "execution_count": null,
   "metadata": {},
   "outputs": [],
   "source": []
  }
 ],
 "metadata": {
  "kernelspec": {
   "display_name": "Python 3",
   "language": "python",
   "name": "python3"
  },
  "language_info": {
   "codemirror_mode": {
    "name": "ipython",
    "version": 3
   },
   "file_extension": ".py",
   "mimetype": "text/x-python",
   "name": "python",
   "nbconvert_exporter": "python",
   "pygments_lexer": "ipython3",
   "version": "3.6.7"
  }
 },
 "nbformat": 4,
 "nbformat_minor": 2
}
